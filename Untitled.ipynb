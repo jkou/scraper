{
 "cells": [
  {
   "cell_type": "code",
   "execution_count": 1,
   "metadata": {
    "collapsed": true
   },
   "outputs": [],
   "source": [
    "# import libraries\n",
    "import urllib3\n",
    "from bs4 import BeautifulSoup\n"
   ]
  },
  {
   "cell_type": "code",
   "execution_count": 87,
   "metadata": {
    "scrolled": false
   },
   "outputs": [],
   "source": [
    "import requests\n",
    "\n",
    "http = urllib3.PoolManager()\n",
    "\n",
    "url = 'https://www.evisu.com/us/sale.html/'\n",
    "response = requests.get(url)\n",
    "soup = BeautifulSoup(response.text, 'html.parser')"
   ]
  },
  {
   "cell_type": "code",
   "execution_count": 88,
   "metadata": {},
   "outputs": [],
   "source": [
    "product_list = soup.find(class_='category-products grid4')"
   ]
  },
  {
   "cell_type": "code",
   "execution_count": 96,
   "metadata": {},
   "outputs": [
    {
     "name": "stdout",
     "output_type": "stream",
     "text": [
      "\n",
      "                US$425            \n",
      "\n",
      "                US$255            \n",
      "\n",
      "                US$450            \n",
      "\n",
      "                US$315            \n",
      "\n",
      "                US$425            \n",
      "\n",
      "                US$340            \n",
      "\n",
      "                US$299            \n",
      "\n",
      "                US$210            \n",
      "\n",
      "                US$555            \n",
      "\n",
      "                US$444            \n",
      "\n",
      "                US$360            \n",
      "\n",
      "                US$252            \n",
      "\n",
      "                US$425            \n",
      "\n",
      "                US$255            \n",
      "\n",
      "                US$425            \n",
      "\n",
      "                US$298            \n",
      "\n",
      "                US$389            \n",
      "\n",
      "                US$273            \n",
      "\n",
      "                US$479            \n",
      "\n",
      "                US$336            \n",
      "\n",
      "                US$389            \n",
      "\n",
      "                US$234            \n",
      "\n",
      "                US$259            \n",
      "\n",
      "                US$182            \n",
      "\n",
      "                US$360            \n",
      "\n",
      "                US$288            \n",
      "\n",
      "                US$360            \n",
      "\n",
      "                US$253            \n",
      "\n",
      "                US$450            \n",
      "\n",
      "                US$270            \n",
      "\n",
      "                US$425            \n",
      "\n",
      "                US$298            \n",
      "\n",
      "                US$389            \n",
      "\n",
      "                US$273            \n",
      "\n",
      "                US$515            \n",
      "\n",
      "                US$362            \n",
      "\n",
      "                US$195            \n",
      "\n",
      "                US$137            \n",
      "\n",
      "                US$285            \n",
      "\n",
      "                US$200            \n",
      "[14, 6, 0, 10, 17, 9, 1, 15, 7, 16, 8, 4, 5, 13, 3, 19, 2, 11, 12, 18]\n",
      "[180.0, 170.0, 170.0, 155.0, 153.0, 143.0, 135.0, 127.0, 127.0, 116.0, 116.0, 111.0, 108.0, 107.0, 89.0, 85.0, 85.0, 77.0, 72.0, 58.0]\n"
     ]
    }
   ],
   "source": [
    "product_list_items = product_list.find_all('li', 'item')\n",
    "# Create for loop to print out all artists' names\n",
    "\n",
    "price_diff = []\n",
    "price_standards = []\n",
    "price_sales = []\n",
    "\n",
    "import re\n",
    "import numpy\n",
    "\n",
    "for product in product_list_items:\n",
    "    price_standard = product.find([\"span\",\"div\", \"p\"], 'old-price').findAll(text=True)[3]\n",
    "    print(price_standard)\n",
    "   \n",
    "    price_standard = re.findall(r'-?\\d+\\.?\\d*', price_standard)\n",
    "    price_standard = list(map(float, price_standard))\n",
    "    price_sale = product.find([\"span\",\"div\",\"p\"], 'special-price').findAll(text=True)[1]\n",
    "    print(price_sale)\n",
    "    \n",
    "    price_sale = re.findall(r'-?\\d+\\.?\\d*', price_sale)\n",
    "    price_sale = list(map(float, price_sale))\n",
    "    price_sale.sort(reverse=True)\n",
    "    \n",
    "    \n",
    "    \n",
    "    price_standards.append(price_standard)\n",
    "    price_sales.append(price_sale)\n",
    "    \n",
    "    price_diff.append(price_standard[0] - price_sale[0])\n",
    "    \n",
    "\n",
    "index = sorted(range(len(price_diff)), key=lambda k: price_diff[k])[::-1]\n",
    "price_diff.sort(reverse=True)\n",
    "print(index)\n",
    "print(price_diff)"
   ]
  },
  {
   "cell_type": "code",
   "execution_count": 113,
   "metadata": {},
   "outputs": [
    {
     "name": "stdout",
     "output_type": "stream",
     "text": [
      "<img alt=\"Regular-fit Daicock Print Denim Jeans with Tiger Godhead Embroidery\" height=\"392\" src=\"https://s.evisumedia.com/media/catalog/product/cache/2/small_image/305x392/9df78eab33525d08d6e5fb8d27136e95/1/e/1eshtm8je14308indx_1__13.jpg\" width=\"305\"/>\n",
      "https://www.evisu.com/us/evisu-feb4b7.html\n"
     ]
    },
    {
     "data": {
      "text/html": [
       "<a href=https://www.evisu.com/us/evisu-feb4b7.htmlhttps://shop.nordstorm.com><img alt=\"Regular-fit Daicock Print Denim Jeans with Tiger Godhead Embroidery\" height=\"392\" src=\"https://s.evisumedia.com/media/catalog/product/cache/2/small_image/305x392/9df78eab33525d08d6e5fb8d27136e95/1/e/1eshtm8je14308indx_1__13.jpg\" width=\"305\"/></a><div><p>Original price: $450.0 </p><p> Sale price: $270.0</p><p>Discount: 40%</p></div><hr>"
      ],
      "text/plain": [
       "<IPython.core.display.HTML object>"
      ]
     },
     "metadata": {},
     "output_type": "display_data"
    },
    {
     "name": "stdout",
     "output_type": "stream",
     "text": [
      "<img alt=\"Regular-fit Denim Jeans with Droplet Daicock Print\" height=\"392\" src=\"https://s.evisumedia.com/media/catalog/product/cache/2/small_image/305x392/9df78eab33525d08d6e5fb8d27136e95/1/e/1eshtm8je13908indx_1__13.jpg\" width=\"305\"/>\n",
      "https://www.evisu.com/us/evisu-0599c3.html\n"
     ]
    },
    {
     "data": {
      "text/html": [
       "<a href=https://www.evisu.com/us/evisu-0599c3.htmlhttps://shop.nordstorm.com><img alt=\"Regular-fit Denim Jeans with Droplet Daicock Print\" height=\"392\" src=\"https://s.evisumedia.com/media/catalog/product/cache/2/small_image/305x392/9df78eab33525d08d6e5fb8d27136e95/1/e/1eshtm8je13908indx_1__13.jpg\" width=\"305\"/></a><div><p>Original price: $425.0 </p><p> Sale price: $255.0</p><p>Discount: 40%</p></div><hr>"
      ],
      "text/plain": [
       "<IPython.core.display.HTML object>"
      ]
     },
     "metadata": {},
     "output_type": "display_data"
    },
    {
     "name": "stdout",
     "output_type": "stream",
     "text": [
      "<img alt=\"Carrot-fit Denim Jeans with Logo and Hannya Skull Motif Embroidery\" height=\"392\" src=\"https://s.evisumedia.com/media/catalog/product/cache/2/small_image/305x392/9df78eab33525d08d6e5fb8d27136e95/1/e/1esgnm8je20517indx_1__1.jpg\" width=\"305\"/>\n",
      "https://www.evisu.com/us/evisukuro-c1a7c3.html\n"
     ]
    },
    {
     "data": {
      "text/html": [
       "<a href=https://www.evisu.com/us/evisukuro-c1a7c3.htmlhttps://shop.nordstorm.com><img alt=\"Carrot-fit Denim Jeans with Logo and Hannya Skull Motif Embroidery\" height=\"392\" src=\"https://s.evisumedia.com/media/catalog/product/cache/2/small_image/305x392/9df78eab33525d08d6e5fb8d27136e95/1/e/1esgnm8je20517indx_1__1.jpg\" width=\"305\"/></a><div><p>Original price: $425.0 </p><p> Sale price: $255.0</p><p>Discount: 40%</p></div><hr>"
      ],
      "text/plain": [
       "<IPython.core.display.HTML object>"
      ]
     },
     "metadata": {},
     "output_type": "display_data"
    },
    {
     "name": "stdout",
     "output_type": "stream",
     "text": [
      "<img alt=\"Slim-fit Maniac Godhead Graphic Daicock Denim Jeans\" height=\"392\" src=\"https://s.evisumedia.com/media/catalog/product/cache/2/small_image/305x392/9df78eab33525d08d6e5fb8d27136e95/1/e/1eshtm8je14010indx_1__1.jpg\" width=\"305\"/>\n",
      "https://www.evisu.com/us/evisu-459946.html\n"
     ]
    },
    {
     "data": {
      "text/html": [
       "<a href=https://www.evisu.com/us/evisu-459946.htmlhttps://shop.nordstorm.com><img alt=\"Slim-fit Maniac Godhead Graphic Daicock Denim Jeans\" height=\"392\" src=\"https://s.evisumedia.com/media/catalog/product/cache/2/small_image/305x392/9df78eab33525d08d6e5fb8d27136e95/1/e/1eshtm8je14010indx_1__1.jpg\" width=\"305\"/></a><div><p>Original price: $389.0 </p><p> Sale price: $234.0</p><p>Discount: 40%</p></div><hr>"
      ],
      "text/plain": [
       "<IPython.core.display.HTML object>"
      ]
     },
     "metadata": {},
     "output_type": "display_data"
    },
    {
     "name": "stdout",
     "output_type": "stream",
     "text": [
      "<img alt=\"Slim-fit Raw Selvedge Jeans with Multi-pocket Embroidery\" height=\"392\" src=\"https://s.evisumedia.com/media/catalog/product/cache/2/small_image/305x392/9df78eab33525d08d6e5fb8d27136e95/1/e/1eahtm7je14510-indx_1__1.jpg\" width=\"305\"/>\n",
      "https://www.evisu.com/us/evisu-a3e871.html\n"
     ]
    },
    {
     "data": {
      "text/html": [
       "<a href=https://www.evisu.com/us/evisu-a3e871.htmlhttps://shop.nordstorm.com><img alt=\"Slim-fit Raw Selvedge Jeans with Multi-pocket Embroidery\" height=\"392\" src=\"https://s.evisumedia.com/media/catalog/product/cache/2/small_image/305x392/9df78eab33525d08d6e5fb8d27136e95/1/e/1eahtm7je14510-indx_1__1.jpg\" width=\"305\"/></a><div><p>Original price: $515.0 </p><p> Sale price: $362.0</p><p>Discount: 30%</p></div><hr>"
      ],
      "text/plain": [
       "<IPython.core.display.HTML object>"
      ]
     },
     "metadata": {},
     "output_type": "display_data"
    }
   ],
   "source": [
    "for i in index[:5]:\n",
    "    content = product_list_items[i]\n",
    "    img = content.findAll('img')[0]\n",
    "    print(img)\n",
    "    link = content.findAll('a')[0][\"href\"]\n",
    "    print(link)\n",
    "\n",
    "    #replace url\n",
    "    link += 'https://shop.nordstorm.com'\n",
    "    \n",
    "    origin_price = price_standards[i][0]\n",
    "    sale_price = price_sales[i][0]\n",
    "    discount = (origin_price - sale_price) / origin_price\n",
    "    prices = \"<div><p>Original price: $\" +  str(price_standards[i][0]) +\" </p>\" + \"<p> Sale price: $\" + str(price_sales[i][0]) + \"</p><p>Discount: \" + str(\"{0:.0%}\".format(discount)) + \"</p></div>\"\n",
    "    sep = \"<hr>\"\n",
    "    from IPython.core.display import display, HTML\n",
    "    display(HTML(\"<a href=\" + link + \">\" + str(img) + \"</a>\" + prices + sep))\n"
   ]
  },
  {
   "cell_type": "code",
   "execution_count": 122,
   "metadata": {},
   "outputs": [
    {
     "name": "stdout",
     "output_type": "stream",
     "text": [
      "<img alt=\"grand street lacey by kate spade new york\" class=\"first-img alpha\" data-alt-src=\"https://katespade.insnw.net/KateSpade/WLRU2747_646_1?$large$\" data-assetname=\"\" data-baseurl=\"https://katespade.insnw.net/KateSpade/WLRU2747_646?$large$\" data-preset=\"\" onerror=\"this.className+=' failed'\" src=\"https://katespade.insnw.net/KateSpade/WLRU2747_646?$large$\"/>\n",
      "<img alt=\"grand street lacey by kate spade new york\" style=\"width:100px; height:100px;\" class=\"first-img alpha\" data-alt-src=\"https://katespade.insnw.net/KateSpade/WLRU2747_646_1?$large$\" data-assetname=\"\" data-baseurl=\"https://katespade.insnw.net/KateSpade/WLRU2747_646?$large$\" data-preset=\"\" onerror=\"this.className+=' failed'\" src=\"https://katespade.insnw.net/KateSpade/WLRU2747_646?$large$\"/>\n"
     ]
    },
    {
     "data": {
      "text/html": [
       "<a href=/products/grand-street-lacey/WLRU2747-1.htmlhttps://shop.nordstorm.com><img alt=\"grand street lacey by kate spade new york\" style=\"width:100px; height:100px;\" class=\"first-img alpha\" data-alt-src=\"https://katespade.insnw.net/KateSpade/WLRU2747_646_1?$large$\" data-assetname=\"\" data-baseurl=\"https://katespade.insnw.net/KateSpade/WLRU2747_646?$large$\" data-preset=\"\" onerror=\"this.className+=' failed'\" src=\"https://katespade.insnw.net/KateSpade/WLRU2747_646?$large$\"/></a><div><p>Original price: $198.0 </p><p> Sale price: $89.0</p><p>Discount: 55%</p></div><hr>"
      ],
      "text/plain": [
       "<IPython.core.display.HTML object>"
      ]
     },
     "metadata": {},
     "output_type": "display_data"
    },
    {
     "name": "stdout",
     "output_type": "stream",
     "text": [
      "<img alt=\"maiden way saffiano clarke by kate spade new york\" class=\"first-img alpha\" data-alt-src=\"https://katespade.insnw.net/KateSpade/WKRU4406_001_1?$large$\" data-assetname=\"\" data-baseurl=\"https://katespade.insnw.net/KateSpade/WKRU4406_001?$large$\" data-preset=\"\" onerror=\"this.className+=' failed'\" src=\"https://katespade.insnw.net/KateSpade/WKRU4406_001?$large$\"/>\n",
      "<img alt=\"maiden way saffiano clarke by kate spade new york\" style=\"width:100px; height:100px;\" class=\"first-img alpha\" data-alt-src=\"https://katespade.insnw.net/KateSpade/WKRU4406_001_1?$large$\" data-assetname=\"\" data-baseurl=\"https://katespade.insnw.net/KateSpade/WKRU4406_001?$large$\" data-preset=\"\" onerror=\"this.className+=' failed'\" src=\"https://katespade.insnw.net/KateSpade/WKRU4406_001?$large$\"/>\n"
     ]
    },
    {
     "data": {
      "text/html": [
       "<a href=/products/maiden-way-saffiano-clarke/WKRU4406-1.htmlhttps://shop.nordstorm.com><img alt=\"maiden way saffiano clarke by kate spade new york\" style=\"width:100px; height:100px;\" class=\"first-img alpha\" data-alt-src=\"https://katespade.insnw.net/KateSpade/WKRU4406_001_1?$large$\" data-assetname=\"\" data-baseurl=\"https://katespade.insnw.net/KateSpade/WKRU4406_001?$large$\" data-preset=\"\" onerror=\"this.className+=' failed'\" src=\"https://katespade.insnw.net/KateSpade/WKRU4406_001?$large$\"/></a><div><p>Original price: $398.0 </p><p> Sale price: $194.0</p><p>Discount: 51%</p></div><hr>"
      ],
      "text/plain": [
       "<IPython.core.display.HTML object>"
      ]
     },
     "metadata": {},
     "output_type": "display_data"
    },
    {
     "name": "stdout",
     "output_type": "stream",
     "text": [
      "<img alt=\"olive drive straw brigette by kate spade new york\" class=\"first-img alpha\" data-alt-src=\"https://katespade.insnw.net/KateSpade/PXRU8722_157_1?$large$\" data-assetname=\"\" data-baseurl=\"https://katespade.insnw.net/KateSpade/PXRU8722_157?$large$\" data-preset=\"\" onerror=\"this.className+=' failed'\" src=\"https://katespade.insnw.net/KateSpade/PXRU8722_157?$large$\"/>\n",
      "<img alt=\"olive drive straw brigette by kate spade new york\" style=\"width:100px; height:100px;\" class=\"first-img alpha\" data-alt-src=\"https://katespade.insnw.net/KateSpade/PXRU8722_157_1?$large$\" data-assetname=\"\" data-baseurl=\"https://katespade.insnw.net/KateSpade/PXRU8722_157?$large$\" data-preset=\"\" onerror=\"this.className+=' failed'\" src=\"https://katespade.insnw.net/KateSpade/PXRU8722_157?$large$\"/>\n"
     ]
    },
    {
     "data": {
      "text/html": [
       "<a href=/products/olive-drive-straw-brigette/PXRU8722.htmlhttps://shop.nordstorm.com><img alt=\"olive drive straw brigette by kate spade new york\" style=\"width:100px; height:100px;\" class=\"first-img alpha\" data-alt-src=\"https://katespade.insnw.net/KateSpade/PXRU8722_157_1?$large$\" data-assetname=\"\" data-baseurl=\"https://katespade.insnw.net/KateSpade/PXRU8722_157?$large$\" data-preset=\"\" onerror=\"this.className+=' failed'\" src=\"https://katespade.insnw.net/KateSpade/PXRU8722_157?$large$\"/></a><div><p>Original price: $398.0 </p><p> Sale price: $239.0</p><p>Discount: 40%</p></div><hr>"
      ],
      "text/plain": [
       "<IPython.core.display.HTML object>"
      ]
     },
     "metadata": {},
     "output_type": "display_data"
    },
    {
     "name": "stdout",
     "output_type": "stream",
     "text": [
      "<img alt=\"olive drive straw savannah by kate spade new york\" class=\"first-img alpha\" data-alt-src=\"https://katespade.insnw.net/KateSpade/PXRU8725_157_1?$large$\" data-assetname=\"\" data-baseurl=\"https://katespade.insnw.net/KateSpade/PXRU8725_157?$large$\" data-preset=\"\" onerror=\"this.className+=' failed'\" src=\"https://katespade.insnw.net/KateSpade/PXRU8725_157?$large$\"/>\n",
      "<img alt=\"olive drive straw savannah by kate spade new york\" style=\"width:100px; height:100px;\" class=\"first-img alpha\" data-alt-src=\"https://katespade.insnw.net/KateSpade/PXRU8725_157_1?$large$\" data-assetname=\"\" data-baseurl=\"https://katespade.insnw.net/KateSpade/PXRU8725_157?$large$\" data-preset=\"\" onerror=\"this.className+=' failed'\" src=\"https://katespade.insnw.net/KateSpade/PXRU8725_157?$large$\"/>\n"
     ]
    },
    {
     "data": {
      "text/html": [
       "<a href=/products/olive-drive-straw-savannah/PXRU8725.htmlhttps://shop.nordstorm.com><img alt=\"olive drive straw savannah by kate spade new york\" style=\"width:100px; height:100px;\" class=\"first-img alpha\" data-alt-src=\"https://katespade.insnw.net/KateSpade/PXRU8725_157_1?$large$\" data-assetname=\"\" data-baseurl=\"https://katespade.insnw.net/KateSpade/PXRU8725_157?$large$\" data-preset=\"\" onerror=\"this.className+=' failed'\" src=\"https://katespade.insnw.net/KateSpade/PXRU8725_157?$large$\"/></a><div><p>Original price: $398.0 </p><p> Sale price: $239.0</p><p>Discount: 40%</p></div><hr>"
      ],
      "text/plain": [
       "<IPython.core.display.HTML object>"
      ]
     },
     "metadata": {},
     "output_type": "display_data"
    },
    {
     "name": "stdout",
     "output_type": "stream",
     "text": [
      "<img alt=\"thompson street justina by kate spade new york\" class=\"first-img alpha\" data-alt-src=\"https://katespade.insnw.net/KateSpade/PXRU8742_652_1?$large$\" data-assetname=\"\" data-baseurl=\"https://katespade.insnw.net/KateSpade/PXRU8742_652?$large$\" data-preset=\"\" onerror=\"this.className+=' failed'\" src=\"https://katespade.insnw.net/KateSpade/PXRU8742_652?$large$\"/>\n",
      "<img alt=\"thompson street justina by kate spade new york\" style=\"width:100px; height:100px;\" class=\"first-img alpha\" data-alt-src=\"https://katespade.insnw.net/KateSpade/PXRU8742_652_1?$large$\" data-assetname=\"\" data-baseurl=\"https://katespade.insnw.net/KateSpade/PXRU8742_652?$large$\" data-preset=\"\" onerror=\"this.className+=' failed'\" src=\"https://katespade.insnw.net/KateSpade/PXRU8742_652?$large$\"/>\n"
     ]
    },
    {
     "data": {
      "text/html": [
       "<a href=/products/thompson-street-justina/PXRU8742.htmlhttps://shop.nordstorm.com><img alt=\"thompson street justina by kate spade new york\" style=\"width:100px; height:100px;\" class=\"first-img alpha\" data-alt-src=\"https://katespade.insnw.net/KateSpade/PXRU8742_652_1?$large$\" data-assetname=\"\" data-baseurl=\"https://katespade.insnw.net/KateSpade/PXRU8742_652?$large$\" data-preset=\"\" onerror=\"this.className+=' failed'\" src=\"https://katespade.insnw.net/KateSpade/PXRU8742_652?$large$\"/></a><div><p>Original price: $358.0 </p><p> Sale price: $215.0</p><p>Discount: 40%</p></div><hr>"
      ],
      "text/plain": [
       "<IPython.core.display.HTML object>"
      ]
     },
     "metadata": {},
     "output_type": "display_data"
    }
   ],
   "source": [
    "# import libraries\n",
    "import urllib3\n",
    "from bs4 import BeautifulSoup\n",
    "import requests\n",
    "import re\n",
    "import numpy\n",
    "from param import katespade\n",
    "\n",
    "\n",
    "def parse_url(url):\n",
    "    http = urllib3.PoolManager()\n",
    "    response = requests.get(url)\n",
    "    soup = BeautifulSoup(response.text, 'html.parser')\n",
    "    return soup\n",
    "\n",
    "def find_product(dict, num_results):\n",
    "\n",
    "    soup = parse_url(dict[\"url\"])\n",
    "\n",
    "    product_list = soup.find(class_=dict['product_list_class'])\n",
    "    product_list_items = product_list.find_all(dict['product_list_item_tag'], dict['product_list_item_class'])\n",
    "\n",
    "    price_discount = []\n",
    "    price_standards = []\n",
    "    price_sales = []\n",
    "\n",
    "\n",
    "    for product in product_list_items:\n",
    "        price_standard = product.find(dict[\"price_standard_tag\"], dict['price_standard_class']).findAll(text=True)[dict[\"price_standard_index\"]]\n",
    "        price_standard = re.findall(r'-?\\d+\\.?\\d*', price_standard)\n",
    "        price_standard = list(map(float, price_standard))\n",
    "    \n",
    "        price_sale = product.find(dict[\"price_sale_tag\"], dict[\"price_sale_class\"]).findAll(text=True)[dict[\"price_sale_index\"]]\n",
    "        price_sale = re.findall(r'-?\\d+\\.?\\d*', price_sale)\n",
    "        price_sale = list(map(float, price_sale))\n",
    "        price_sale.sort(reverse=True)\n",
    "        \n",
    "        price_standards.append(price_standard)\n",
    "        price_sales.append(price_sale)\n",
    "        \n",
    "        price_discount.append((price_standard[0] - price_sale[0]) / price_standard[0])\n",
    "    \n",
    "\n",
    "    index = sorted(range(len(price_discount)), key=lambda k: price_discount[k])[::-1]\n",
    "    price_discount.sort(reverse=True)\n",
    "\n",
    "    html = \"\"\n",
    "    sep = \"<hr>\"\n",
    "    for i in index[:num_results]:\n",
    "        content = product_list_items[i]\n",
    "        img = content.findAll('img')[1]\n",
    "        print(img)\n",
    "        img = str(img).replace(\"class=\", \"style=\\\"width:100px; height:100px;\\\" class=\")\n",
    "        print(img)\n",
    "        link = content.findAll('a')[0][\"href\"]\n",
    "        #print(link)\n",
    "        \n",
    "        #replace url\n",
    "        link += 'https://shop.nordstorm.com'\n",
    "    \n",
    "        origin_price = price_standards[i][0]\n",
    "        sale_price = price_sales[i][0]\n",
    "        discount = (origin_price - sale_price) / origin_price\n",
    "        prices = \"<div><p>Original price: $\" +  str(price_standards[i][0]) +\" </p>\" + \"<p> Sale price: $\" + str(price_sales[i][0]) + \"</p><p>Discount: \" + str(\"{0:.0%}\".format(discount)) + \"</p></div>\"\n",
    "        \n",
    "\n",
    "        from IPython.core.display import display, HTML\n",
    "        display(HTML(\"<a href=\" + link + \">\" + str(img) + \"</a>\" + prices + sep))\n",
    "\n",
    "find_product(katespade, 5)\n",
    "\n"
   ]
  },
  {
   "cell_type": "code",
   "execution_count": null,
   "metadata": {
    "collapsed": true
   },
   "outputs": [],
   "source": []
  },
  {
   "cell_type": "code",
   "execution_count": null,
   "metadata": {
    "collapsed": true
   },
   "outputs": [],
   "source": []
  },
  {
   "cell_type": "code",
   "execution_count": null,
   "metadata": {
    "collapsed": true
   },
   "outputs": [],
   "source": []
  }
 ],
 "metadata": {
  "anaconda-cloud": {},
  "kernelspec": {
   "display_name": "Python 3",
   "language": "python",
   "name": "python3"
  },
  "language_info": {
   "codemirror_mode": {
    "name": "ipython",
    "version": 3
   },
   "file_extension": ".py",
   "mimetype": "text/x-python",
   "name": "python",
   "nbconvert_exporter": "python",
   "pygments_lexer": "ipython3",
   "version": "3.6.0"
  }
 },
 "nbformat": 4,
 "nbformat_minor": 1
}
